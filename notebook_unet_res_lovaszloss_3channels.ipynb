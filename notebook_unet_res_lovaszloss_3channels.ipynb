{
 "cells": [
  {
   "cell_type": "code",
   "execution_count": 1,
   "metadata": {},
   "outputs": [],
   "source": [
    "%load_ext autoreload\n",
    "%autoreload 2"
   ]
  },
  {
   "cell_type": "code",
   "execution_count": 2,
   "metadata": {},
   "outputs": [],
   "source": [
    "import gc\n",
    "import pandas as pd\n",
    "import numpy as np\n",
    "import torch\n",
    "import datetime\n",
    "from tqdm import tqdm_notebook\n",
    "from torch import nn\n",
    "from torchvision import transforms\n",
    "from cnn_finetune import make_model\n",
    "\n",
    "import model as M\n",
    "import unet_parts\n",
    "from dataset import SegmentationDataset, SegmentationInferenceDataset\n",
    "from data import *\n",
    "from util import *\n",
    "from loss import FocalLoss\n",
    "from lovasz_loss import lovasz_hinge_flat"
   ]
  },
  {
   "cell_type": "code",
   "execution_count": 3,
   "metadata": {},
   "outputs": [],
   "source": [
    "torch.cuda.is_available()\n",
    "device = torch.device('cuda')"
   ]
  },
  {
   "cell_type": "markdown",
   "metadata": {},
   "source": [
    "# Setup Dataset"
   ]
  },
  {
   "cell_type": "code",
   "execution_count": 4,
   "metadata": {},
   "outputs": [],
   "source": [
    "train_df, val_df, _ = get_dfs()"
   ]
  },
  {
   "cell_type": "code",
   "execution_count": 5,
   "metadata": {},
   "outputs": [],
   "source": [
    "train_dataset = SegmentationDataset(train_df, size=(128, 128), use_depth_channels=True)\n",
    "val_dataset = SegmentationInferenceDataset(val_df, input_size=(128, 128), use_depth_channels=True, with_gt=True)\n",
    "\n",
    "train_loader = torch.utils.data.DataLoader(train_dataset, batch_size=16, shuffle=True, num_workers=2)\n",
    "val_loader = torch.utils.data.DataLoader(val_dataset, batch_size=16, shuffle=False)"
   ]
  },
  {
   "cell_type": "markdown",
   "metadata": {},
   "source": [
    "# Training"
   ]
  },
  {
   "cell_type": "code",
   "execution_count": 6,
   "metadata": {},
   "outputs": [],
   "source": [
    "gc.collect()\n",
    "torch.cuda.empty_cache()\n",
    "\n",
    "model = M.UNetRes(n_channels=3, n_classes=1)\n",
    "model = model.to(device)\n",
    "\n",
    "#criterion = FocalLoss(gamma=2.0, alpha=0.25)\n",
    "#criterion = nn.BCEWithLogitsLoss()\n",
    "#criterion = FocalLoss(gamma=2.0, alpha=0.25)\n",
    "criterion = lovasz_hinge_flat\n",
    "optimizer = torch.optim.SGD(model.parameters(), lr=0.01)"
   ]
  },
  {
   "cell_type": "code",
   "execution_count": 7,
   "metadata": {},
   "outputs": [],
   "source": [
    "def train(model, n_epoch, train_iter, val_iter):\n",
    "    for epoch in range(n_epoch):\n",
    "        model.train()\n",
    "        \n",
    "        gc.collect()\n",
    "        torch.cuda.empty_cache()\n",
    "        \n",
    "        total_loss = 0\n",
    "        total_size = 0\n",
    "        \n",
    "        for batch_idx, (data, target) in enumerate(train_iter):\n",
    "            data, target = data.to(device), target.to(device)\n",
    "            optimizer.zero_grad()\n",
    "            \n",
    "            # Forward\n",
    "            output = model(data)\n",
    "            loss = criterion(output.view(-1), target.view(-1))\n",
    "            \n",
    "            total_loss += loss.item()\n",
    "            total_size += data.size(0)\n",
    "            \n",
    "            # Backward\n",
    "            loss.backward()\n",
    "            optimizer.step()\n",
    "            \n",
    "            if batch_idx % 50 == 0:\n",
    "                now = datetime.datetime.now()\n",
    "                print('[{}] Train Epoch: {} [{}/{} ({:.0f}%)]\\tAverage loss: {:.6f}'.format(\n",
    "                    now,\n",
    "                    epoch, batch_idx * len(data), len(train_iter.dataset),\n",
    "                    100. * batch_idx / len(train_iter), total_loss / total_size))\n",
    "                \n",
    "        gc.collect()\n",
    "        torch.cuda.empty_cache()\n",
    "        \n",
    "        with torch.no_grad():\n",
    "            iou = evaluate(model, val_iter, device=device)\n",
    "        print('[{}] Train Epoch: {}\\tIoU: {:.6f}'.format(now, epoch, iou))\n",
    "    return model"
   ]
  },
  {
   "cell_type": "code",
   "execution_count": 8,
   "metadata": {},
   "outputs": [
    {
     "name": "stderr",
     "output_type": "stream",
     "text": [
      "D:\\Users\\ns\\Anaconda3\\envs\\chainer\\lib\\site-packages\\torch\\nn\\modules\\upsampling.py:122: UserWarning: nn.Upsampling is deprecated. Use nn.functional.interpolate instead.\n",
      "  warnings.warn(\"nn.Upsampling is deprecated. Use nn.functional.interpolate instead.\")\n"
     ]
    },
    {
     "name": "stdout",
     "output_type": "stream",
     "text": [
      "[2018-10-05 22:59:00.210458] Train Epoch: 0 [0/3200 (0%)]\tAverage loss: 0.073375\n",
      "[2018-10-05 22:59:14.730294] Train Epoch: 0 [800/3200 (25%)]\tAverage loss: 0.068076\n",
      "[2018-10-05 22:59:29.273665] Train Epoch: 0 [1600/3200 (50%)]\tAverage loss: 0.066185\n",
      "[2018-10-05 22:59:43.833689] Train Epoch: 0 [2400/3200 (75%)]\tAverage loss: 0.065213\n",
      "[2018-10-05 22:59:43.833689] Train Epoch: 0\tIoU: 0.221125\n",
      "[2018-10-05 23:00:13.127859] Train Epoch: 1 [0/3200 (0%)]\tAverage loss: 0.075234\n",
      "[2018-10-05 23:00:27.840626] Train Epoch: 1 [800/3200 (25%)]\tAverage loss: 0.061272\n",
      "[2018-10-05 23:00:42.587864] Train Epoch: 1 [1600/3200 (50%)]\tAverage loss: 0.059909\n",
      "[2018-10-05 23:00:57.343933] Train Epoch: 1 [2400/3200 (75%)]\tAverage loss: 0.059455\n",
      "[2018-10-05 23:00:57.343933] Train Epoch: 1\tIoU: 0.538375\n",
      "[2018-10-05 23:01:19.394453] Train Epoch: 2 [0/3200 (0%)]\tAverage loss: 0.053158\n",
      "[2018-10-05 23:01:34.284015] Train Epoch: 2 [800/3200 (25%)]\tAverage loss: 0.059282\n",
      "[2018-10-05 23:01:49.221881] Train Epoch: 2 [1600/3200 (50%)]\tAverage loss: 0.056817\n",
      "[2018-10-05 23:02:04.179063] Train Epoch: 2 [2400/3200 (75%)]\tAverage loss: 0.056339\n",
      "[2018-10-05 23:02:04.179063] Train Epoch: 2\tIoU: 0.546000\n",
      "[2018-10-05 23:02:26.390756] Train Epoch: 3 [0/3200 (0%)]\tAverage loss: 0.072018\n",
      "[2018-10-05 23:02:41.287012] Train Epoch: 3 [800/3200 (25%)]\tAverage loss: 0.055283\n",
      "[2018-10-05 23:02:56.209657] Train Epoch: 3 [1600/3200 (50%)]\tAverage loss: 0.054220\n",
      "[2018-10-05 23:03:11.166724] Train Epoch: 3 [2400/3200 (75%)]\tAverage loss: 0.053381\n",
      "[2018-10-05 23:03:11.166724] Train Epoch: 3\tIoU: 0.526500\n",
      "[2018-10-05 23:03:33.346489] Train Epoch: 4 [0/3200 (0%)]\tAverage loss: 0.082262\n",
      "[2018-10-05 23:03:48.257240] Train Epoch: 4 [800/3200 (25%)]\tAverage loss: 0.049358\n",
      "[2018-10-05 23:04:03.207878] Train Epoch: 4 [1600/3200 (50%)]\tAverage loss: 0.049843\n",
      "[2018-10-05 23:04:18.201492] Train Epoch: 4 [2400/3200 (75%)]\tAverage loss: 0.048763\n",
      "[2018-10-05 23:04:18.201492] Train Epoch: 4\tIoU: 0.626500\n",
      "[2018-10-05 23:04:40.332974] Train Epoch: 5 [0/3200 (0%)]\tAverage loss: 0.064350\n",
      "[2018-10-05 23:04:55.274791] Train Epoch: 5 [800/3200 (25%)]\tAverage loss: 0.049410\n",
      "[2018-10-05 23:05:10.227777] Train Epoch: 5 [1600/3200 (50%)]\tAverage loss: 0.046060\n",
      "[2018-10-05 23:05:25.189607] Train Epoch: 5 [2400/3200 (75%)]\tAverage loss: 0.045572\n",
      "[2018-10-05 23:05:25.189607] Train Epoch: 5\tIoU: 0.610500\n",
      "[2018-10-05 23:05:47.344631] Train Epoch: 6 [0/3200 (0%)]\tAverage loss: 0.025560\n",
      "[2018-10-05 23:06:02.270069] Train Epoch: 6 [800/3200 (25%)]\tAverage loss: 0.041221\n",
      "[2018-10-05 23:06:17.216640] Train Epoch: 6 [1600/3200 (50%)]\tAverage loss: 0.043821\n",
      "[2018-10-05 23:06:32.138403] Train Epoch: 6 [2400/3200 (75%)]\tAverage loss: 0.043761\n",
      "[2018-10-05 23:06:32.138403] Train Epoch: 6\tIoU: 0.596500\n",
      "[2018-10-05 23:06:54.306062] Train Epoch: 7 [0/3200 (0%)]\tAverage loss: 0.054971\n",
      "[2018-10-05 23:07:09.233123] Train Epoch: 7 [800/3200 (25%)]\tAverage loss: 0.038696\n",
      "[2018-10-05 23:07:24.172334] Train Epoch: 7 [1600/3200 (50%)]\tAverage loss: 0.040812\n",
      "[2018-10-05 23:07:39.126179] Train Epoch: 7 [2400/3200 (75%)]\tAverage loss: 0.040878\n",
      "[2018-10-05 23:07:39.126179] Train Epoch: 7\tIoU: 0.487875\n",
      "[2018-10-05 23:08:01.323660] Train Epoch: 8 [0/3200 (0%)]\tAverage loss: 0.069266\n",
      "[2018-10-05 23:08:16.270460] Train Epoch: 8 [800/3200 (25%)]\tAverage loss: 0.041426\n",
      "[2018-10-05 23:08:31.236756] Train Epoch: 8 [1600/3200 (50%)]\tAverage loss: 0.041640\n",
      "[2018-10-05 23:08:46.190682] Train Epoch: 8 [2400/3200 (75%)]\tAverage loss: 0.041560\n",
      "[2018-10-05 23:08:46.190682] Train Epoch: 8\tIoU: 0.640500\n",
      "[2018-10-05 23:09:08.390529] Train Epoch: 9 [0/3200 (0%)]\tAverage loss: 0.011299\n",
      "[2018-10-05 23:09:23.401939] Train Epoch: 9 [800/3200 (25%)]\tAverage loss: 0.037116\n",
      "[2018-10-05 23:09:38.374694] Train Epoch: 9 [1600/3200 (50%)]\tAverage loss: 0.037750\n",
      "[2018-10-05 23:09:53.310121] Train Epoch: 9 [2400/3200 (75%)]\tAverage loss: 0.038797\n",
      "[2018-10-05 23:09:53.310121] Train Epoch: 9\tIoU: 0.591625\n",
      "[2018-10-05 23:10:15.573981] Train Epoch: 10 [0/3200 (0%)]\tAverage loss: 0.068685\n",
      "[2018-10-05 23:10:30.476564] Train Epoch: 10 [800/3200 (25%)]\tAverage loss: 0.038875\n",
      "[2018-10-05 23:10:45.426174] Train Epoch: 10 [1600/3200 (50%)]\tAverage loss: 0.037682\n",
      "[2018-10-05 23:11:00.363396] Train Epoch: 10 [2400/3200 (75%)]\tAverage loss: 0.038243\n",
      "[2018-10-05 23:11:00.363396] Train Epoch: 10\tIoU: 0.548500\n",
      "[2018-10-05 23:11:22.534002] Train Epoch: 11 [0/3200 (0%)]\tAverage loss: 0.015857\n",
      "[2018-10-05 23:11:37.471379] Train Epoch: 11 [800/3200 (25%)]\tAverage loss: 0.036556\n",
      "[2018-10-05 23:11:52.441016] Train Epoch: 11 [1600/3200 (50%)]\tAverage loss: 0.038398\n",
      "[2018-10-05 23:12:07.389214] Train Epoch: 11 [2400/3200 (75%)]\tAverage loss: 0.038496\n",
      "[2018-10-05 23:12:07.389214] Train Epoch: 11\tIoU: 0.642500\n",
      "[2018-10-05 23:12:29.621929] Train Epoch: 12 [0/3200 (0%)]\tAverage loss: 0.049502\n",
      "[2018-10-05 23:12:44.539714] Train Epoch: 12 [800/3200 (25%)]\tAverage loss: 0.035746\n",
      "[2018-10-05 23:12:59.498863] Train Epoch: 12 [1600/3200 (50%)]\tAverage loss: 0.035242\n",
      "[2018-10-05 23:13:14.479908] Train Epoch: 12 [2400/3200 (75%)]\tAverage loss: 0.035861\n",
      "[2018-10-05 23:13:14.479908] Train Epoch: 12\tIoU: 0.566125\n",
      "[2018-10-05 23:13:36.643930] Train Epoch: 13 [0/3200 (0%)]\tAverage loss: 0.047172\n",
      "[2018-10-05 23:13:51.554154] Train Epoch: 13 [800/3200 (25%)]\tAverage loss: 0.035331\n",
      "[2018-10-05 23:14:06.509812] Train Epoch: 13 [1600/3200 (50%)]\tAverage loss: 0.035843\n",
      "[2018-10-05 23:14:21.489593] Train Epoch: 13 [2400/3200 (75%)]\tAverage loss: 0.035061\n",
      "[2018-10-05 23:14:21.489593] Train Epoch: 13\tIoU: 0.610875\n",
      "[2018-10-05 23:14:43.671112] Train Epoch: 14 [0/3200 (0%)]\tAverage loss: 0.038700\n",
      "[2018-10-05 23:14:58.613053] Train Epoch: 14 [800/3200 (25%)]\tAverage loss: 0.036761\n",
      "[2018-10-05 23:15:13.574557] Train Epoch: 14 [1600/3200 (50%)]\tAverage loss: 0.035869\n",
      "[2018-10-05 23:15:28.547900] Train Epoch: 14 [2400/3200 (75%)]\tAverage loss: 0.035149\n",
      "[2018-10-05 23:15:28.547900] Train Epoch: 14\tIoU: 0.616625\n",
      "[2018-10-05 23:15:50.758533] Train Epoch: 15 [0/3200 (0%)]\tAverage loss: 0.035662\n",
      "[2018-10-05 23:16:05.731494] Train Epoch: 15 [800/3200 (25%)]\tAverage loss: 0.034976\n",
      "[2018-10-05 23:16:20.657672] Train Epoch: 15 [1600/3200 (50%)]\tAverage loss: 0.037155\n",
      "[2018-10-05 23:16:35.631716] Train Epoch: 15 [2400/3200 (75%)]\tAverage loss: 0.034995\n",
      "[2018-10-05 23:16:35.631716] Train Epoch: 15\tIoU: 0.687875\n",
      "[2018-10-05 23:16:57.850574] Train Epoch: 16 [0/3200 (0%)]\tAverage loss: 0.055982\n",
      "[2018-10-05 23:17:12.801468] Train Epoch: 16 [800/3200 (25%)]\tAverage loss: 0.034189\n",
      "[2018-10-05 23:17:27.740165] Train Epoch: 16 [1600/3200 (50%)]\tAverage loss: 0.033700\n",
      "[2018-10-05 23:17:42.684835] Train Epoch: 16 [2400/3200 (75%)]\tAverage loss: 0.032590\n",
      "[2018-10-05 23:17:42.684835] Train Epoch: 16\tIoU: 0.665875\n",
      "[2018-10-05 23:18:04.861845] Train Epoch: 17 [0/3200 (0%)]\tAverage loss: 0.019404\n",
      "[2018-10-05 23:18:19.766481] Train Epoch: 17 [800/3200 (25%)]\tAverage loss: 0.036882\n",
      "[2018-10-05 23:18:34.702001] Train Epoch: 17 [1600/3200 (50%)]\tAverage loss: 0.034859\n",
      "[2018-10-05 23:18:49.627110] Train Epoch: 17 [2400/3200 (75%)]\tAverage loss: 0.033244\n",
      "[2018-10-05 23:18:49.627110] Train Epoch: 17\tIoU: 0.676750\n",
      "[2018-10-05 23:19:11.809187] Train Epoch: 18 [0/3200 (0%)]\tAverage loss: 0.011662\n",
      "[2018-10-05 23:19:26.768551] Train Epoch: 18 [800/3200 (25%)]\tAverage loss: 0.030651\n",
      "[2018-10-05 23:19:41.711222] Train Epoch: 18 [1600/3200 (50%)]\tAverage loss: 0.032222\n",
      "[2018-10-05 23:19:56.640016] Train Epoch: 18 [2400/3200 (75%)]\tAverage loss: 0.031597\n",
      "[2018-10-05 23:19:56.640016] Train Epoch: 18\tIoU: 0.710500\n",
      "[2018-10-05 23:20:18.827244] Train Epoch: 19 [0/3200 (0%)]\tAverage loss: 0.038862\n",
      "[2018-10-05 23:20:33.737926] Train Epoch: 19 [800/3200 (25%)]\tAverage loss: 0.029284\n",
      "[2018-10-05 23:20:48.650726] Train Epoch: 19 [1600/3200 (50%)]\tAverage loss: 0.029019\n",
      "[2018-10-05 23:21:03.593988] Train Epoch: 19 [2400/3200 (75%)]\tAverage loss: 0.030714\n",
      "[2018-10-05 23:21:03.593988] Train Epoch: 19\tIoU: 0.662625\n"
     ]
    }
   ],
   "source": [
    "model = train(model, 20, train_loader, val_loader)"
   ]
  },
  {
   "cell_type": "code",
   "execution_count": 9,
   "metadata": {},
   "outputs": [],
   "source": [
    "save_model(model, 'unet_res_lovaszloss_sgd_3ch')"
   ]
  },
  {
   "cell_type": "code",
   "execution_count": null,
   "metadata": {},
   "outputs": [],
   "source": []
  }
 ],
 "metadata": {
  "kernelspec": {
   "display_name": "Python 3",
   "language": "python",
   "name": "python3"
  },
  "language_info": {
   "codemirror_mode": {
    "name": "ipython",
    "version": 3
   },
   "file_extension": ".py",
   "mimetype": "text/x-python",
   "name": "python",
   "nbconvert_exporter": "python",
   "pygments_lexer": "ipython3",
   "version": "3.6.3"
  },
  "toc": {
   "base_numbering": 1,
   "nav_menu": {},
   "number_sections": true,
   "sideBar": true,
   "skip_h1_title": false,
   "title_cell": "Table of Contents",
   "title_sidebar": "Contents",
   "toc_cell": false,
   "toc_position": {},
   "toc_section_display": true,
   "toc_window_display": false
  },
  "varInspector": {
   "cols": {
    "lenName": 16,
    "lenType": 16,
    "lenVar": 40
   },
   "kernels_config": {
    "python": {
     "delete_cmd_postfix": "",
     "delete_cmd_prefix": "del ",
     "library": "var_list.py",
     "varRefreshCmd": "print(var_dic_list())"
    },
    "r": {
     "delete_cmd_postfix": ") ",
     "delete_cmd_prefix": "rm(",
     "library": "var_list.r",
     "varRefreshCmd": "cat(var_dic_list()) "
    }
   },
   "types_to_exclude": [
    "module",
    "function",
    "builtin_function_or_method",
    "instance",
    "_Feature"
   ],
   "window_display": false
  }
 },
 "nbformat": 4,
 "nbformat_minor": 2
}
