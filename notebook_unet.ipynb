{
 "cells": [
  {
   "cell_type": "code",
   "execution_count": 1,
   "metadata": {},
   "outputs": [],
   "source": [
    "%load_ext autoreload\n",
    "%autoreload 2"
   ]
  },
  {
   "cell_type": "code",
   "execution_count": 18,
   "metadata": {},
   "outputs": [],
   "source": [
    "import gc\n",
    "import pandas as pd\n",
    "import numpy as np\n",
    "import torch\n",
    "import datetime\n",
    "from tqdm import tqdm_notebook\n",
    "from torch import nn\n",
    "from torchvision import transforms\n",
    "from cnn_finetune import make_model\n",
    "\n",
    "import model as M\n",
    "from dataset import SegmentationDataset\n",
    "from data import *\n",
    "from util import *"
   ]
  },
  {
   "cell_type": "code",
   "execution_count": 19,
   "metadata": {},
   "outputs": [],
   "source": [
    "torch.cuda.is_available()\n",
    "device = torch.device('cuda')"
   ]
  },
  {
   "cell_type": "markdown",
   "metadata": {},
   "source": [
    "# Setup dataset"
   ]
  },
  {
   "cell_type": "code",
   "execution_count": 4,
   "metadata": {},
   "outputs": [],
   "source": [
    "train_df, val_df, _ = get_dfs()"
   ]
  },
  {
   "cell_type": "code",
   "execution_count": 5,
   "metadata": {},
   "outputs": [
    {
     "data": {
      "text/plain": [
       "(800, 5)"
      ]
     },
     "execution_count": 5,
     "metadata": {},
     "output_type": "execute_result"
    }
   ],
   "source": [
    "val_df.shape"
   ]
  },
  {
   "cell_type": "code",
   "execution_count": 12,
   "metadata": {},
   "outputs": [],
   "source": [
    "train_dataset = SegmentationDataset(train_df, mode='train').set_transformer((128, 128))\n",
    "val_dataset = SegmentationDataset(val_df, mode='train').set_transformer()\n",
    "\n",
    "train_loader = torch.utils.data.DataLoader(train_dataset, batch_size=16, shuffle=True, num_workers=2)\n",
    "val_loader = torch.utils.data.DataLoader(val_dataset, batch_size=16, shuffle=False)"
   ]
  },
  {
   "cell_type": "markdown",
   "metadata": {},
   "source": [
    "# Training"
   ]
  },
  {
   "cell_type": "code",
   "execution_count": 13,
   "metadata": {},
   "outputs": [],
   "source": [
    "torch.cuda.empty_cache()\n",
    "\n",
    "model = M.UNet(1, n_classes=1)\n",
    "model = model.to(device)\n",
    "\n",
    "criterion = nn.BCEWithLogitsLoss()\n",
    "optimizer = torch.optim.Adam(model.parameters())"
   ]
  },
  {
   "cell_type": "code",
   "execution_count": 22,
   "metadata": {},
   "outputs": [],
   "source": [
    "def train(model, n_epoch, train_iter, val_iter):\n",
    "    for epoch in range(n_epoch):\n",
    "        model.train()\n",
    "        \n",
    "        gc.collect()\n",
    "        torch.cuda.empty_cache()\n",
    "        \n",
    "        total_loss = 0\n",
    "        total_size = 0\n",
    "        \n",
    "        for batch_idx, (data, target) in enumerate(train_iter):\n",
    "            data, target = data.to(device), target.to(device)\n",
    "            optimizer.zero_grad()\n",
    "            \n",
    "            # Forward\n",
    "            output = model(data)\n",
    "            loss = criterion(output.view(-1), target.view(-1))\n",
    "            \n",
    "            total_loss += loss.item()\n",
    "            total_size += data.size(0)\n",
    "            \n",
    "            # Backward\n",
    "            loss.backward()\n",
    "            optimizer.step()\n",
    "            \n",
    "            if batch_idx % 100 == 0:\n",
    "                now = datetime.datetime.now()\n",
    "                print('[{}] Train Epoch: {} [{}/{} ({:.0f}%)]\\tAverage loss: {:.6f}'.format(\n",
    "                    now,\n",
    "                    epoch, batch_idx * len(data), len(train_iter.dataset),\n",
    "                    100. * batch_idx / len(train_iter), total_loss / total_size))\n",
    "                \n",
    "        gc.collect()\n",
    "        torch.cuda.empty_cache()\n",
    "        \n",
    "        iou = evaluate(model, val_iter, device=device)\n",
    "        print('[{}] Train Epoch: {}\\tIoU: {:.6f}'.format(now, epoch, iou))\n",
    "    return model"
   ]
  },
  {
   "cell_type": "code",
   "execution_count": 23,
   "metadata": {},
   "outputs": [
    {
     "name": "stderr",
     "output_type": "stream",
     "text": [
      "D:\\Users\\ns\\Anaconda3\\envs\\chainer\\lib\\site-packages\\torch\\nn\\modules\\upsampling.py:122: UserWarning: nn.Upsampling is deprecated. Use nn.functional.interpolate instead.\n",
      "  warnings.warn(\"nn.Upsampling is deprecated. Use nn.functional.interpolate instead.\")\n"
     ]
    },
    {
     "name": "stdout",
     "output_type": "stream",
     "text": [
      "[2018-09-28 23:40:43.758058] Train Epoch: 0 [0/3200 (0%)]\tAverage loss: 0.013861\n",
      "[2018-09-28 23:41:12.310166] Train Epoch: 0 [1600/3200 (50%)]\tAverage loss: 0.022306\n",
      "[2018-09-28 23:41:12.310166] Train Epoch: 0\tIoU: 0.871207\n",
      "[2018-09-28 23:41:54.978029] Train Epoch: 1 [0/3200 (0%)]\tAverage loss: 0.035116\n",
      "[2018-09-28 23:42:23.568033] Train Epoch: 1 [1600/3200 (50%)]\tAverage loss: 0.023653\n",
      "[2018-09-28 23:42:23.568033] Train Epoch: 1\tIoU: 0.877615\n",
      "[2018-09-28 23:42:58.270737] Train Epoch: 2 [0/3200 (0%)]\tAverage loss: 0.030590\n",
      "[2018-09-28 23:43:26.863992] Train Epoch: 2 [1600/3200 (50%)]\tAverage loss: 0.022670\n",
      "[2018-09-28 23:43:26.863992] Train Epoch: 2\tIoU: 0.854933\n",
      "[2018-09-28 23:44:01.691125] Train Epoch: 3 [0/3200 (0%)]\tAverage loss: 0.023196\n",
      "[2018-09-28 23:44:30.215796] Train Epoch: 3 [1600/3200 (50%)]\tAverage loss: 0.022222\n",
      "[2018-09-28 23:44:30.215796] Train Epoch: 3\tIoU: 0.868768\n",
      "[2018-09-28 23:45:04.950548] Train Epoch: 4 [0/3200 (0%)]\tAverage loss: 0.012286\n",
      "[2018-09-28 23:45:33.561217] Train Epoch: 4 [1600/3200 (50%)]\tAverage loss: 0.020983\n",
      "[2018-09-28 23:45:33.561217] Train Epoch: 4\tIoU: 0.883442\n",
      "[2018-09-28 23:46:08.342834] Train Epoch: 5 [0/3200 (0%)]\tAverage loss: 0.014297\n",
      "[2018-09-28 23:46:36.932910] Train Epoch: 5 [1600/3200 (50%)]\tAverage loss: 0.020223\n",
      "[2018-09-28 23:46:36.932910] Train Epoch: 5\tIoU: 0.884507\n",
      "[2018-09-28 23:47:11.740673] Train Epoch: 6 [0/3200 (0%)]\tAverage loss: 0.017530\n",
      "[2018-09-28 23:47:40.337585] Train Epoch: 6 [1600/3200 (50%)]\tAverage loss: 0.020833\n",
      "[2018-09-28 23:47:40.337585] Train Epoch: 6\tIoU: 0.877639\n",
      "[2018-09-28 23:48:15.228170] Train Epoch: 7 [0/3200 (0%)]\tAverage loss: 0.011102\n",
      "[2018-09-28 23:48:43.840182] Train Epoch: 7 [1600/3200 (50%)]\tAverage loss: 0.018873\n",
      "[2018-09-28 23:48:43.840182] Train Epoch: 7\tIoU: 0.884540\n",
      "[2018-09-28 23:49:18.878556] Train Epoch: 8 [0/3200 (0%)]\tAverage loss: 0.017599\n",
      "[2018-09-28 23:49:47.503497] Train Epoch: 8 [1600/3200 (50%)]\tAverage loss: 0.018635\n",
      "[2018-09-28 23:49:47.503497] Train Epoch: 8\tIoU: 0.827949\n",
      "[2018-09-28 23:50:22.445678] Train Epoch: 9 [0/3200 (0%)]\tAverage loss: 0.011726\n",
      "[2018-09-28 23:50:51.152601] Train Epoch: 9 [1600/3200 (50%)]\tAverage loss: 0.018450\n",
      "[2018-09-28 23:50:51.152601] Train Epoch: 9\tIoU: 0.885990\n"
     ]
    }
   ],
   "source": [
    "model = train(model, 10, train_loader, val_loader)"
   ]
  },
  {
   "cell_type": "code",
   "execution_count": 24,
   "metadata": {},
   "outputs": [],
   "source": [
    "save_model(model, 'unet_test')"
   ]
  },
  {
   "cell_type": "code",
   "execution_count": 47,
   "metadata": {},
   "outputs": [
    {
     "name": "stderr",
     "output_type": "stream",
     "text": [
      "D:\\Users\\ns\\Anaconda3\\envs\\chainer\\lib\\site-packages\\torch\\nn\\modules\\upsampling.py:122: UserWarning: nn.Upsampling is deprecated. Use nn.functional.interpolate instead.\n",
      "  warnings.warn(\"nn.Upsampling is deprecated. Use nn.functional.interpolate instead.\")\n"
     ]
    },
    {
     "data": {
      "text/plain": [
       "torch.Size([16, 1, 128, 128])"
      ]
     },
     "execution_count": 47,
     "metadata": {},
     "output_type": "execute_result"
    }
   ],
   "source": [
    "with torch.no_grad():\n",
    "    for batch_idx, (data, target) in enumerate(train_loader):\n",
    "        data, target = data.to(device), target.to(device)\n",
    "        y = model(data)\n",
    "        break\n",
    "y.shape"
   ]
  },
  {
   "cell_type": "code",
   "execution_count": 21,
   "metadata": {},
   "outputs": [],
   "source": [
    "transforms.ToPILImage?"
   ]
  },
  {
   "cell_type": "code",
   "execution_count": null,
   "metadata": {},
   "outputs": [],
   "source": []
  }
 ],
 "metadata": {
  "kernelspec": {
   "display_name": "Python 3",
   "language": "python",
   "name": "python3"
  },
  "language_info": {
   "codemirror_mode": {
    "name": "ipython",
    "version": 3
   },
   "file_extension": ".py",
   "mimetype": "text/x-python",
   "name": "python",
   "nbconvert_exporter": "python",
   "pygments_lexer": "ipython3",
   "version": "3.6.3"
  },
  "toc": {
   "base_numbering": 1,
   "nav_menu": {},
   "number_sections": true,
   "sideBar": true,
   "skip_h1_title": false,
   "title_cell": "Table of Contents",
   "title_sidebar": "Contents",
   "toc_cell": false,
   "toc_position": {},
   "toc_section_display": true,
   "toc_window_display": false
  },
  "varInspector": {
   "cols": {
    "lenName": 16,
    "lenType": 16,
    "lenVar": 40
   },
   "kernels_config": {
    "python": {
     "delete_cmd_postfix": "",
     "delete_cmd_prefix": "del ",
     "library": "var_list.py",
     "varRefreshCmd": "print(var_dic_list())"
    },
    "r": {
     "delete_cmd_postfix": ") ",
     "delete_cmd_prefix": "rm(",
     "library": "var_list.r",
     "varRefreshCmd": "cat(var_dic_list()) "
    }
   },
   "types_to_exclude": [
    "module",
    "function",
    "builtin_function_or_method",
    "instance",
    "_Feature"
   ],
   "window_display": false
  }
 },
 "nbformat": 4,
 "nbformat_minor": 2
}
