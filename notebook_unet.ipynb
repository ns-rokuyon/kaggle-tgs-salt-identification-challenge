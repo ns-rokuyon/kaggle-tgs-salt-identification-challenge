{
 "cells": [
  {
   "cell_type": "code",
   "execution_count": 1,
   "metadata": {},
   "outputs": [],
   "source": [
    "%load_ext autoreload\n",
    "%autoreload 2"
   ]
  },
  {
   "cell_type": "code",
   "execution_count": 2,
   "metadata": {},
   "outputs": [],
   "source": [
    "import gc\n",
    "import pandas as pd\n",
    "import numpy as np\n",
    "import torch\n",
    "import datetime\n",
    "from tqdm import tqdm_notebook\n",
    "from torch import nn\n",
    "from torchvision import transforms\n",
    "from cnn_finetune import make_model\n",
    "\n",
    "import model as M\n",
    "import unet_parts\n",
    "from dataset import SegmentationDataset, SegmentationInferenceDataset\n",
    "from data import *\n",
    "from util import *"
   ]
  },
  {
   "cell_type": "code",
   "execution_count": 3,
   "metadata": {},
   "outputs": [],
   "source": [
    "torch.cuda.is_available()\n",
    "device = torch.device('cuda')"
   ]
  },
  {
   "cell_type": "markdown",
   "metadata": {},
   "source": [
    "# Setup dataset"
   ]
  },
  {
   "cell_type": "code",
   "execution_count": 4,
   "metadata": {},
   "outputs": [],
   "source": [
    "train_df, val_df, _ = get_dfs()"
   ]
  },
  {
   "cell_type": "code",
   "execution_count": 5,
   "metadata": {},
   "outputs": [
    {
     "data": {
      "text/plain": [
       "(800, 5)"
      ]
     },
     "execution_count": 5,
     "metadata": {},
     "output_type": "execute_result"
    }
   ],
   "source": [
    "val_df.shape"
   ]
  },
  {
   "cell_type": "code",
   "execution_count": 6,
   "metadata": {},
   "outputs": [],
   "source": [
    "train_dataset = SegmentationDataset(train_df, size=(128, 128))\n",
    "val_dataset = SegmentationInferenceDataset(val_df, input_size=(128, 128), with_gt=True)\n",
    "\n",
    "train_loader = torch.utils.data.DataLoader(train_dataset, batch_size=16, shuffle=True, num_workers=2)\n",
    "val_loader = torch.utils.data.DataLoader(val_dataset, batch_size=16, shuffle=False)"
   ]
  },
  {
   "cell_type": "markdown",
   "metadata": {},
   "source": [
    "# Training"
   ]
  },
  {
   "cell_type": "code",
   "execution_count": 7,
   "metadata": {},
   "outputs": [],
   "source": [
    "gc.collect()\n",
    "torch.cuda.empty_cache()\n",
    "\n",
    "model = M.UNetRes(1, n_classes=1)\n",
    "#model = M.UNet(1, n_classes=1)\n",
    "model = model.to(device)\n",
    "\n",
    "criterion = nn.BCEWithLogitsLoss()\n",
    "optimizer = torch.optim.Adam(model.parameters())"
   ]
  },
  {
   "cell_type": "code",
   "execution_count": 10,
   "metadata": {},
   "outputs": [],
   "source": [
    "def train(model, n_epoch, train_iter, val_iter):\n",
    "    for epoch in range(n_epoch):\n",
    "        model.train()\n",
    "        \n",
    "        gc.collect()\n",
    "        torch.cuda.empty_cache()\n",
    "        \n",
    "        total_loss = 0\n",
    "        total_size = 0\n",
    "        \n",
    "        for batch_idx, (data, target) in enumerate(train_iter):\n",
    "            data, target = data.to(device), target.to(device)\n",
    "            optimizer.zero_grad()\n",
    "            \n",
    "            # Forward\n",
    "            output = model(data)\n",
    "            loss = criterion(output.view(-1), target.view(-1))\n",
    "            \n",
    "            total_loss += loss.item()\n",
    "            total_size += data.size(0)\n",
    "            \n",
    "            # Backward\n",
    "            loss.backward()\n",
    "            optimizer.step()\n",
    "            \n",
    "            if batch_idx % 100 == 0:\n",
    "                now = datetime.datetime.now()\n",
    "                print('[{}] Train Epoch: {} [{}/{} ({:.0f}%)]\\tAverage loss: {:.6f}'.format(\n",
    "                    now,\n",
    "                    epoch, batch_idx * len(data), len(train_iter.dataset),\n",
    "                    100. * batch_idx / len(train_iter), total_loss / total_size))\n",
    "                \n",
    "        gc.collect()\n",
    "        torch.cuda.empty_cache()\n",
    "        \n",
    "        with torch.no_grad():\n",
    "            iou = evaluate(model, val_iter, device=device)\n",
    "        print('[{}] Train Epoch: {}\\tIoU: {:.6f}'.format(now, epoch, iou))\n",
    "    return model"
   ]
  },
  {
   "cell_type": "code",
   "execution_count": 11,
   "metadata": {},
   "outputs": [
    {
     "name": "stderr",
     "output_type": "stream",
     "text": [
      "D:\\Users\\ns\\Anaconda3\\envs\\chainer\\lib\\site-packages\\torch\\nn\\modules\\upsampling.py:122: UserWarning: nn.Upsampling is deprecated. Use nn.functional.interpolate instead.\n",
      "  warnings.warn(\"nn.Upsampling is deprecated. Use nn.functional.interpolate instead.\")\n"
     ]
    },
    {
     "name": "stdout",
     "output_type": "stream",
     "text": [
      "[2018-10-02 19:12:07.581079] Train Epoch: 0 [0/3200 (0%)]\tAverage loss: 0.044788\n",
      "[2018-10-02 19:12:36.673081] Train Epoch: 0 [1600/3200 (50%)]\tAverage loss: 0.028662\n",
      "[2018-10-02 19:12:36.673081] Train Epoch: 0\tIoU: 0.514250\n",
      "[2018-10-02 19:13:20.284894] Train Epoch: 1 [0/3200 (0%)]\tAverage loss: 0.030981\n",
      "[2018-10-02 19:13:49.415707] Train Epoch: 1 [1600/3200 (50%)]\tAverage loss: 0.024259\n",
      "[2018-10-02 19:13:49.415707] Train Epoch: 1\tIoU: 0.507500\n",
      "[2018-10-02 19:14:25.617082] Train Epoch: 2 [0/3200 (0%)]\tAverage loss: 0.027542\n",
      "[2018-10-02 19:14:54.731880] Train Epoch: 2 [1600/3200 (50%)]\tAverage loss: 0.023317\n",
      "[2018-10-02 19:14:54.731880] Train Epoch: 2\tIoU: 0.440250\n",
      "[2018-10-02 19:15:30.918308] Train Epoch: 3 [0/3200 (0%)]\tAverage loss: 0.013193\n",
      "[2018-10-02 19:16:00.027250] Train Epoch: 3 [1600/3200 (50%)]\tAverage loss: 0.021636\n",
      "[2018-10-02 19:16:00.027250] Train Epoch: 3\tIoU: 0.502250\n",
      "[2018-10-02 19:16:36.166392] Train Epoch: 4 [0/3200 (0%)]\tAverage loss: 0.013633\n",
      "[2018-10-02 19:17:05.327973] Train Epoch: 4 [1600/3200 (50%)]\tAverage loss: 0.020154\n",
      "[2018-10-02 19:17:05.327973] Train Epoch: 4\tIoU: 0.504500\n",
      "[2018-10-02 19:17:41.484626] Train Epoch: 5 [0/3200 (0%)]\tAverage loss: 0.030074\n",
      "[2018-10-02 19:18:10.662664] Train Epoch: 5 [1600/3200 (50%)]\tAverage loss: 0.020035\n",
      "[2018-10-02 19:18:10.662664] Train Epoch: 5\tIoU: 0.512125\n",
      "[2018-10-02 19:18:46.840379] Train Epoch: 6 [0/3200 (0%)]\tAverage loss: 0.021217\n",
      "[2018-10-02 19:19:16.000499] Train Epoch: 6 [1600/3200 (50%)]\tAverage loss: 0.019459\n",
      "[2018-10-02 19:19:16.000499] Train Epoch: 6\tIoU: 0.517000\n",
      "[2018-10-02 19:19:52.217895] Train Epoch: 7 [0/3200 (0%)]\tAverage loss: 0.016154\n",
      "[2018-10-02 19:20:21.408704] Train Epoch: 7 [1600/3200 (50%)]\tAverage loss: 0.020276\n",
      "[2018-10-02 19:20:21.408704] Train Epoch: 7\tIoU: 0.567125\n",
      "[2018-10-02 19:20:57.569302] Train Epoch: 8 [0/3200 (0%)]\tAverage loss: 0.012017\n",
      "[2018-10-02 19:21:26.762975] Train Epoch: 8 [1600/3200 (50%)]\tAverage loss: 0.018750\n",
      "[2018-10-02 19:21:26.762975] Train Epoch: 8\tIoU: 0.594000\n",
      "[2018-10-02 19:22:03.040922] Train Epoch: 9 [0/3200 (0%)]\tAverage loss: 0.028041\n",
      "[2018-10-02 19:22:32.249597] Train Epoch: 9 [1600/3200 (50%)]\tAverage loss: 0.017708\n",
      "[2018-10-02 19:22:32.249597] Train Epoch: 9\tIoU: 0.616375\n",
      "[2018-10-02 19:23:08.468377] Train Epoch: 10 [0/3200 (0%)]\tAverage loss: 0.023534\n",
      "[2018-10-02 19:23:37.700737] Train Epoch: 10 [1600/3200 (50%)]\tAverage loss: 0.016635\n",
      "[2018-10-02 19:23:37.700737] Train Epoch: 10\tIoU: 0.616375\n",
      "[2018-10-02 19:24:13.910532] Train Epoch: 11 [0/3200 (0%)]\tAverage loss: 0.011523\n",
      "[2018-10-02 19:24:43.125489] Train Epoch: 11 [1600/3200 (50%)]\tAverage loss: 0.016275\n",
      "[2018-10-02 19:24:43.125489] Train Epoch: 11\tIoU: 0.612500\n",
      "[2018-10-02 19:25:19.390512] Train Epoch: 12 [0/3200 (0%)]\tAverage loss: 0.009579\n",
      "[2018-10-02 19:25:48.567749] Train Epoch: 12 [1600/3200 (50%)]\tAverage loss: 0.016522\n",
      "[2018-10-02 19:25:48.567749] Train Epoch: 12\tIoU: 0.609875\n",
      "[2018-10-02 19:26:24.802609] Train Epoch: 13 [0/3200 (0%)]\tAverage loss: 0.016360\n",
      "[2018-10-02 19:26:53.958449] Train Epoch: 13 [1600/3200 (50%)]\tAverage loss: 0.015816\n",
      "[2018-10-02 19:26:53.958449] Train Epoch: 13\tIoU: 0.618500\n",
      "[2018-10-02 19:27:30.182878] Train Epoch: 14 [0/3200 (0%)]\tAverage loss: 0.016604\n",
      "[2018-10-02 19:27:59.367133] Train Epoch: 14 [1600/3200 (50%)]\tAverage loss: 0.015947\n",
      "[2018-10-02 19:27:59.367133] Train Epoch: 14\tIoU: 0.614500\n",
      "[2018-10-02 19:28:35.593351] Train Epoch: 15 [0/3200 (0%)]\tAverage loss: 0.018397\n",
      "[2018-10-02 19:29:04.788366] Train Epoch: 15 [1600/3200 (50%)]\tAverage loss: 0.015859\n",
      "[2018-10-02 19:29:04.788366] Train Epoch: 15\tIoU: 0.633500\n",
      "[2018-10-02 19:29:41.015889] Train Epoch: 16 [0/3200 (0%)]\tAverage loss: 0.012486\n",
      "[2018-10-02 19:30:10.218689] Train Epoch: 16 [1600/3200 (50%)]\tAverage loss: 0.014778\n",
      "[2018-10-02 19:30:10.218689] Train Epoch: 16\tIoU: 0.634375\n",
      "[2018-10-02 19:30:46.437293] Train Epoch: 17 [0/3200 (0%)]\tAverage loss: 0.005713\n",
      "[2018-10-02 19:31:15.654655] Train Epoch: 17 [1600/3200 (50%)]\tAverage loss: 0.015134\n",
      "[2018-10-02 19:31:15.654655] Train Epoch: 17\tIoU: 0.569375\n",
      "[2018-10-02 19:31:51.856724] Train Epoch: 18 [0/3200 (0%)]\tAverage loss: 0.019979\n",
      "[2018-10-02 19:32:21.056817] Train Epoch: 18 [1600/3200 (50%)]\tAverage loss: 0.014749\n",
      "[2018-10-02 19:32:21.056817] Train Epoch: 18\tIoU: 0.466875\n",
      "[2018-10-02 19:32:57.290876] Train Epoch: 19 [0/3200 (0%)]\tAverage loss: 0.009545\n",
      "[2018-10-02 19:33:26.468496] Train Epoch: 19 [1600/3200 (50%)]\tAverage loss: 0.014310\n",
      "[2018-10-02 19:33:26.468496] Train Epoch: 19\tIoU: 0.659750\n"
     ]
    }
   ],
   "source": [
    "model = train(model, 20, train_loader, val_loader)"
   ]
  },
  {
   "cell_type": "code",
   "execution_count": 12,
   "metadata": {},
   "outputs": [],
   "source": [
    "save_model(model, 'unet_resblock')"
   ]
  },
  {
   "cell_type": "code",
   "execution_count": 47,
   "metadata": {},
   "outputs": [
    {
     "name": "stderr",
     "output_type": "stream",
     "text": [
      "D:\\Users\\ns\\Anaconda3\\envs\\chainer\\lib\\site-packages\\torch\\nn\\modules\\upsampling.py:122: UserWarning: nn.Upsampling is deprecated. Use nn.functional.interpolate instead.\n",
      "  warnings.warn(\"nn.Upsampling is deprecated. Use nn.functional.interpolate instead.\")\n"
     ]
    },
    {
     "data": {
      "text/plain": [
       "torch.Size([16, 1, 128, 128])"
      ]
     },
     "execution_count": 47,
     "metadata": {},
     "output_type": "execute_result"
    }
   ],
   "source": [
    "with torch.no_grad():\n",
    "    for batch_idx, (data, target) in enumerate(train_loader):\n",
    "        data, target = data.to(device), target.to(device)\n",
    "        y = model(data)\n",
    "        break\n",
    "y.shape"
   ]
  },
  {
   "cell_type": "code",
   "execution_count": 21,
   "metadata": {},
   "outputs": [],
   "source": [
    "transforms.ToPILImage?"
   ]
  },
  {
   "cell_type": "code",
   "execution_count": 8,
   "metadata": {},
   "outputs": [
    {
     "data": {
      "text/plain": [
       "torch.Size([4, 128, 128, 128])"
      ]
     },
     "execution_count": 8,
     "metadata": {},
     "output_type": "execute_result"
    }
   ],
   "source": [
    "x = torch.Tensor(np.random.rand(4, 1, 128, 128))\n",
    "\n",
    "x1 = unet_parts.inconv(1, 64)(x)\n",
    "x2 = unet_parts.double_conv(64, 128)(x1)\n",
    "x2.shape"
   ]
  },
  {
   "cell_type": "code",
   "execution_count": 9,
   "metadata": {},
   "outputs": [
    {
     "data": {
      "text/plain": [
       "torch.Size([4, 128, 64, 64])"
      ]
     },
     "execution_count": 9,
     "metadata": {},
     "output_type": "execute_result"
    }
   ],
   "source": [
    "x = torch.Tensor(np.random.rand(4, 1, 128, 128))\n",
    "\n",
    "x1 = unet_parts.inconv(1, 64)(x)\n",
    "x2 = unet_parts.down(64, 128)(x1)\n",
    "x2.shape"
   ]
  },
  {
   "cell_type": "code",
   "execution_count": 13,
   "metadata": {},
   "outputs": [
    {
     "data": {
      "text/plain": [
       "torch.Size([4, 128, 128, 128])"
      ]
     },
     "execution_count": 13,
     "metadata": {},
     "output_type": "execute_result"
    }
   ],
   "source": [
    "x = torch.Tensor(np.random.rand(4, 1, 128, 128))\n",
    "\n",
    "x1 = unet_parts.inconv(1, 64)(x)\n",
    "x2 = unet_parts.BasicBlock(64, 128)(x1)\n",
    "x2.shape"
   ]
  },
  {
   "cell_type": "code",
   "execution_count": null,
   "metadata": {},
   "outputs": [],
   "source": []
  }
 ],
 "metadata": {
  "kernelspec": {
   "display_name": "Python 3",
   "language": "python",
   "name": "python3"
  },
  "language_info": {
   "codemirror_mode": {
    "name": "ipython",
    "version": 3
   },
   "file_extension": ".py",
   "mimetype": "text/x-python",
   "name": "python",
   "nbconvert_exporter": "python",
   "pygments_lexer": "ipython3",
   "version": "3.6.3"
  },
  "toc": {
   "base_numbering": 1,
   "nav_menu": {},
   "number_sections": true,
   "sideBar": true,
   "skip_h1_title": false,
   "title_cell": "Table of Contents",
   "title_sidebar": "Contents",
   "toc_cell": false,
   "toc_position": {},
   "toc_section_display": true,
   "toc_window_display": false
  },
  "varInspector": {
   "cols": {
    "lenName": 16,
    "lenType": 16,
    "lenVar": 40
   },
   "kernels_config": {
    "python": {
     "delete_cmd_postfix": "",
     "delete_cmd_prefix": "del ",
     "library": "var_list.py",
     "varRefreshCmd": "print(var_dic_list())"
    },
    "r": {
     "delete_cmd_postfix": ") ",
     "delete_cmd_prefix": "rm(",
     "library": "var_list.r",
     "varRefreshCmd": "cat(var_dic_list()) "
    }
   },
   "types_to_exclude": [
    "module",
    "function",
    "builtin_function_or_method",
    "instance",
    "_Feature"
   ],
   "window_display": false
  }
 },
 "nbformat": 4,
 "nbformat_minor": 2
}
